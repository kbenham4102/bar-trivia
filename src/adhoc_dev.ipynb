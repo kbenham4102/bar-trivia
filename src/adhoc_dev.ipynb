{
 "cells": [
  {
   "cell_type": "code",
   "execution_count": 59,
   "metadata": {},
   "outputs": [],
   "source": [
    "import os\n",
    "import wget\n",
    "import sys\n",
    "import json\n",
    "import pandas as pd\n",
    "import requests\n",
    "import base64\n",
    "import numpy as np"
   ]
  },
  {
   "cell_type": "code",
   "execution_count": 2,
   "metadata": {},
   "outputs": [
    {
     "data": {
      "text/plain": [
       "'trivia_test.json'"
      ]
     },
     "execution_count": 2,
     "metadata": {},
     "output_type": "execute_result"
    }
   ],
   "source": [
    "# Get a request fulfilled\n",
    "wget.download('https://opentdb.com/api.php?amount=10&category=17&difficulty=easy&type=multiple', out='trivia_test.json')"
   ]
  },
  {
   "cell_type": "code",
   "execution_count": 11,
   "metadata": {},
   "outputs": [],
   "source": [
    "df = pd.read_json('trivia_test.json', orient='values')"
   ]
  },
  {
   "cell_type": "code",
   "execution_count": 12,
   "metadata": {},
   "outputs": [
    {
     "data": {
      "text/html": [
       "<div>\n",
       "<style scoped>\n",
       "    .dataframe tbody tr th:only-of-type {\n",
       "        vertical-align: middle;\n",
       "    }\n",
       "\n",
       "    .dataframe tbody tr th {\n",
       "        vertical-align: top;\n",
       "    }\n",
       "\n",
       "    .dataframe thead th {\n",
       "        text-align: right;\n",
       "    }\n",
       "</style>\n",
       "<table border=\"1\" class=\"dataframe\">\n",
       "  <thead>\n",
       "    <tr style=\"text-align: right;\">\n",
       "      <th></th>\n",
       "      <th>response_code</th>\n",
       "      <th>results</th>\n",
       "    </tr>\n",
       "  </thead>\n",
       "  <tbody>\n",
       "    <tr>\n",
       "      <th>0</th>\n",
       "      <td>0</td>\n",
       "      <td>{'category': 'Science &amp; Nature', 'type': 'mult...</td>\n",
       "    </tr>\n",
       "    <tr>\n",
       "      <th>1</th>\n",
       "      <td>0</td>\n",
       "      <td>{'category': 'Science &amp; Nature', 'type': 'mult...</td>\n",
       "    </tr>\n",
       "    <tr>\n",
       "      <th>2</th>\n",
       "      <td>0</td>\n",
       "      <td>{'category': 'Science &amp; Nature', 'type': 'mult...</td>\n",
       "    </tr>\n",
       "    <tr>\n",
       "      <th>3</th>\n",
       "      <td>0</td>\n",
       "      <td>{'category': 'Science &amp; Nature', 'type': 'mult...</td>\n",
       "    </tr>\n",
       "    <tr>\n",
       "      <th>4</th>\n",
       "      <td>0</td>\n",
       "      <td>{'category': 'Science &amp; Nature', 'type': 'mult...</td>\n",
       "    </tr>\n",
       "    <tr>\n",
       "      <th>5</th>\n",
       "      <td>0</td>\n",
       "      <td>{'category': 'Science &amp; Nature', 'type': 'mult...</td>\n",
       "    </tr>\n",
       "    <tr>\n",
       "      <th>6</th>\n",
       "      <td>0</td>\n",
       "      <td>{'category': 'Science &amp; Nature', 'type': 'mult...</td>\n",
       "    </tr>\n",
       "    <tr>\n",
       "      <th>7</th>\n",
       "      <td>0</td>\n",
       "      <td>{'category': 'Science &amp; Nature', 'type': 'mult...</td>\n",
       "    </tr>\n",
       "    <tr>\n",
       "      <th>8</th>\n",
       "      <td>0</td>\n",
       "      <td>{'category': 'Science &amp; Nature', 'type': 'mult...</td>\n",
       "    </tr>\n",
       "    <tr>\n",
       "      <th>9</th>\n",
       "      <td>0</td>\n",
       "      <td>{'category': 'Science &amp; Nature', 'type': 'mult...</td>\n",
       "    </tr>\n",
       "  </tbody>\n",
       "</table>\n",
       "</div>"
      ],
      "text/plain": [
       "   response_code                                            results\n",
       "0              0  {'category': 'Science & Nature', 'type': 'mult...\n",
       "1              0  {'category': 'Science & Nature', 'type': 'mult...\n",
       "2              0  {'category': 'Science & Nature', 'type': 'mult...\n",
       "3              0  {'category': 'Science & Nature', 'type': 'mult...\n",
       "4              0  {'category': 'Science & Nature', 'type': 'mult...\n",
       "5              0  {'category': 'Science & Nature', 'type': 'mult...\n",
       "6              0  {'category': 'Science & Nature', 'type': 'mult...\n",
       "7              0  {'category': 'Science & Nature', 'type': 'mult...\n",
       "8              0  {'category': 'Science & Nature', 'type': 'mult...\n",
       "9              0  {'category': 'Science & Nature', 'type': 'mult..."
      ]
     },
     "execution_count": 12,
     "metadata": {},
     "output_type": "execute_result"
    }
   ],
   "source": [
    "df"
   ]
  },
  {
   "cell_type": "code",
   "execution_count": 13,
   "metadata": {},
   "outputs": [
    {
     "ename": "AttributeError",
     "evalue": "'str' object has no attribute 'read'",
     "output_type": "error",
     "traceback": [
      "\u001b[0;31m---------------------------------------------------------------------------\u001b[0m",
      "\u001b[0;31mAttributeError\u001b[0m                            Traceback (most recent call last)",
      "\u001b[0;32m<ipython-input-13-3b6defe7d4e9>\u001b[0m in \u001b[0;36m<module>\u001b[0;34m\u001b[0m\n\u001b[0;32m----> 1\u001b[0;31m \u001b[0mdc\u001b[0m \u001b[0;34m=\u001b[0m \u001b[0mjson\u001b[0m\u001b[0;34m.\u001b[0m\u001b[0mload\u001b[0m\u001b[0;34m(\u001b[0m\u001b[0;34m'trivia_test.json'\u001b[0m\u001b[0;34m)\u001b[0m\u001b[0;34m\u001b[0m\u001b[0;34m\u001b[0m\u001b[0m\n\u001b[0m",
      "\u001b[0;32m/usr/lib/python3.6/json/__init__.py\u001b[0m in \u001b[0;36mload\u001b[0;34m(fp, cls, object_hook, parse_float, parse_int, parse_constant, object_pairs_hook, **kw)\u001b[0m\n\u001b[1;32m    294\u001b[0m \u001b[0;34m\u001b[0m\u001b[0m\n\u001b[1;32m    295\u001b[0m     \"\"\"\n\u001b[0;32m--> 296\u001b[0;31m     return loads(fp.read(),\n\u001b[0m\u001b[1;32m    297\u001b[0m         \u001b[0mcls\u001b[0m\u001b[0;34m=\u001b[0m\u001b[0mcls\u001b[0m\u001b[0;34m,\u001b[0m \u001b[0mobject_hook\u001b[0m\u001b[0;34m=\u001b[0m\u001b[0mobject_hook\u001b[0m\u001b[0;34m,\u001b[0m\u001b[0;34m\u001b[0m\u001b[0;34m\u001b[0m\u001b[0m\n\u001b[1;32m    298\u001b[0m         \u001b[0mparse_float\u001b[0m\u001b[0;34m=\u001b[0m\u001b[0mparse_float\u001b[0m\u001b[0;34m,\u001b[0m \u001b[0mparse_int\u001b[0m\u001b[0;34m=\u001b[0m\u001b[0mparse_int\u001b[0m\u001b[0;34m,\u001b[0m\u001b[0;34m\u001b[0m\u001b[0;34m\u001b[0m\u001b[0m\n",
      "\u001b[0;31mAttributeError\u001b[0m: 'str' object has no attribute 'read'"
     ]
    }
   ],
   "source": []
  },
  {
   "cell_type": "code",
   "execution_count": 71,
   "metadata": {},
   "outputs": [],
   "source": [
    "def build_request(nQs, category, difficulty, q_type = 'multiple'):\n",
    "    \n",
    "    s = f'https://opentdb.com/api.php?amount={nQs}&category={category}&difficulty={difficulty}&type={q_type}&encode=base64'\n",
    "    \n",
    "    return s"
   ]
  },
  {
   "cell_type": "code",
   "execution_count": 72,
   "metadata": {},
   "outputs": [
    {
     "data": {
      "text/plain": [
       "'https://opentdb.com/api.php?amount=4&category=15&difficulty=medium&type=multiple&encode=base64'"
      ]
     },
     "execution_count": 72,
     "metadata": {},
     "output_type": "execute_result"
    }
   ],
   "source": [
    "build_request(4, 15, 'medium')"
   ]
  },
  {
   "cell_type": "code",
   "execution_count": null,
   "metadata": {},
   "outputs": [],
   "source": []
  },
  {
   "cell_type": "code",
   "execution_count": 155,
   "metadata": {},
   "outputs": [],
   "source": [
    "res = requests.get('https://opentdb.com/api.php?amount=10&difficulty=medium&type=boolean&encode=base64')"
   ]
  },
  {
   "cell_type": "code",
   "execution_count": 156,
   "metadata": {},
   "outputs": [],
   "source": [
    "data = res.json()"
   ]
  },
  {
   "cell_type": "code",
   "execution_count": 157,
   "metadata": {
    "scrolled": true
   },
   "outputs": [
    {
     "data": {
      "text/plain": [
       "{'response_code': 0,\n",
       " 'results': [{'category': 'U2NpZW5jZSAmIE5hdHVyZQ==',\n",
       "   'type': 'Ym9vbGVhbg==',\n",
       "   'difficulty': 'bWVkaXVt',\n",
       "   'question': 'VGhlIE5lYW5kZXJ0aGFscyB3ZXJlIGEgZGlyZWN0IGFuY2VzdG9yIG9mIG1vZGVybiBodW1hbnMu',\n",
       "   'correct_answer': 'RmFsc2U=',\n",
       "   'incorrect_answers': ['VHJ1ZQ==']},\n",
       "  {'category': 'RW50ZXJ0YWlubWVudDogTXVzaWM=',\n",
       "   'type': 'Ym9vbGVhbg==',\n",
       "   'difficulty': 'bWVkaXVt',\n",
       "   'question': 'UmFwcGVyIFNub29wIERvZ2cncyByZWFsIG5hbWUgaXMgJ0NvcmRvemFyIENhbHZpbiBCcm9hZHVzLCBKci4nLg==',\n",
       "   'correct_answer': 'VHJ1ZQ==',\n",
       "   'incorrect_answers': ['RmFsc2U=']},\n",
       "  {'category': 'U2NpZW5jZSAmIE5hdHVyZQ==',\n",
       "   'type': 'Ym9vbGVhbg==',\n",
       "   'difficulty': 'bWVkaXVt',\n",
       "   'question': 'VGhlICJHeW1waWUgU3RpbmdlciIgaXMgdGhlIGRlYWRsaWVzdCBwbGFudCBpbiB0aGUgd29ybGQu',\n",
       "   'correct_answer': 'RmFsc2U=',\n",
       "   'incorrect_answers': ['VHJ1ZQ==']},\n",
       "  {'category': 'RW50ZXJ0YWlubWVudDogTXVzaWM=',\n",
       "   'type': 'Ym9vbGVhbg==',\n",
       "   'difficulty': 'bWVkaXVt',\n",
       "   'question': 'U2NvdHRpc2ggcHJvZHVjZXIgQ2FsdmluIEhhcnJpcyBpcyBmcm9tIHRoZSB0b3duIG9mIER1bWZyaWVzLCBTY290bGFuZC4=',\n",
       "   'correct_answer': 'VHJ1ZQ==',\n",
       "   'incorrect_answers': ['RmFsc2U=']},\n",
       "  {'category': 'R2VuZXJhbCBLbm93bGVkZ2U=',\n",
       "   'type': 'Ym9vbGVhbg==',\n",
       "   'difficulty': 'bWVkaXVt',\n",
       "   'question': 'VGhlIHdvcmQgIm5ld3MiIG9yaWdpbmF0ZXMgZnJvbSB0aGUgZmlyc3QgbGV0dGVycyBvZiB0aGUgNCBtYWluIGRpcmVjdGlvbnMgb24gYSBjb21wYXNzIChOb3J0aCwgRWFzdCwgV2VzdCwgU291dGgpLg==',\n",
       "   'correct_answer': 'RmFsc2U=',\n",
       "   'incorrect_answers': ['VHJ1ZQ==']},\n",
       "  {'category': 'R2VuZXJhbCBLbm93bGVkZ2U=',\n",
       "   'type': 'Ym9vbGVhbg==',\n",
       "   'difficulty': 'bWVkaXVt',\n",
       "   'question': 'VGhlIHRlcm0gIlNwYW0iIGNhbWUgYmVmb3JlIHRoZSBmb29kIHByb2R1Y3QgIlNwYW0iLg==',\n",
       "   'correct_answer': 'RmFsc2U=',\n",
       "   'incorrect_answers': ['VHJ1ZQ==']},\n",
       "  {'category': 'QW5pbWFscw==',\n",
       "   'type': 'Ym9vbGVhbg==',\n",
       "   'difficulty': 'bWVkaXVt',\n",
       "   'question': 'VGhlIGF2ZXJhZ2UgbGlmZXNwYW4gb2YgYSB3aWxkY2F0IGlzIG9ubHkgYXJvdW5kIDUtNiB5ZWFycy4g',\n",
       "   'correct_answer': 'RmFsc2U=',\n",
       "   'incorrect_answers': ['VHJ1ZQ==']},\n",
       "  {'category': 'VmVoaWNsZXM=',\n",
       "   'type': 'Ym9vbGVhbg==',\n",
       "   'difficulty': 'bWVkaXVt',\n",
       "   'question': 'VGhlIEdlbmVyYWwgTW90b3JzIEVWMSB3YXMgdGhlIGZpcnN0IHN0cmVldC1sZWdhbCBwcm9kdWN0aW9uIGVsZWN0cmljIHZlaGljbGUu',\n",
       "   'correct_answer': 'RmFsc2U=',\n",
       "   'incorrect_answers': ['VHJ1ZQ==']},\n",
       "  {'category': 'RW50ZXJ0YWlubWVudDogQ2FydG9vbiAmIEFuaW1hdGlvbnM=',\n",
       "   'type': 'Ym9vbGVhbg==',\n",
       "   'difficulty': 'bWVkaXVt',\n",
       "   'question': 'U25hZ2dsZXB1c3Mgd2FzIHBhcnQgb2YgdGhlIFlvZ2kgWWFob29pZXMgaW4gdGhlIDE5Nzcgc2hvdyBTY29vYnkncyBBbGwtU3RhciBMYWZmLWEtTHltcGljcy4=',\n",
       "   'correct_answer': 'RmFsc2U=',\n",
       "   'incorrect_answers': ['VHJ1ZQ==']},\n",
       "  {'category': 'VmVoaWNsZXM=',\n",
       "   'type': 'Ym9vbGVhbg==',\n",
       "   'difficulty': 'bWVkaXVt',\n",
       "   'question': 'VGhlIHNub3dtb2JpbGUgd2FzIGludmVudGVkIGJ5IENhbmFkaWFuIEpvc2VwaC1Bcm1hbmQgQm9tYmFyZGllciBpbiAxOTM3Lg==',\n",
       "   'correct_answer': 'VHJ1ZQ==',\n",
       "   'incorrect_answers': ['RmFsc2U=']}]}"
      ]
     },
     "execution_count": 157,
     "metadata": {},
     "output_type": "execute_result"
    }
   ],
   "source": [
    "data"
   ]
  },
  {
   "cell_type": "code",
   "execution_count": 158,
   "metadata": {},
   "outputs": [
    {
     "data": {
      "text/plain": [
       "b'boolean'"
      ]
     },
     "execution_count": 158,
     "metadata": {},
     "output_type": "execute_result"
    }
   ],
   "source": [
    "base64.decodebytes(data['results'][4]['type'].encode())"
   ]
  },
  {
   "cell_type": "code",
   "execution_count": null,
   "metadata": {
    "scrolled": false
   },
   "outputs": [],
   "source": [
    "\n",
    "\n",
    "for i in range(10):\n",
    "    \n",
    "    print(base64.decodebytes(data['results'][i]['question'].encode()).decode())\n",
    "    answers = np.array([data['results'][i]['correct_answer']] + data['results'][i]['incorrect_answers'])\n",
    "    answers = answers[np.random.permutation(len(answers))]\n",
    "    corr_ans = data['results'][i]['correct_answer']\n",
    "    for ans in answers:\n",
    "        print((base64.decodebytes(ans.encode())))\n",
    "    print(\"correct \", base64.decodebytes(corr_ans.encode()))\n",
    "        \n",
    "        "
   ]
  },
  {
   "cell_type": "code",
   "execution_count": 84,
   "metadata": {},
   "outputs": [],
   "source": [
    "a = np.array(answers)\n",
    "a = a[np.random.permutation(4)]"
   ]
  },
  {
   "cell_type": "code",
   "execution_count": 85,
   "metadata": {},
   "outputs": [
    {
     "data": {
      "text/plain": [
       "array(['Q2FybG9zIFNhaW56IEpyLg==', 'Sm9seW9uIFBhbG1lcg==',\n",
       "       'UmlvIEhhcnlhbnRv', 'RGFuaWlsIEt2eWF0'], dtype='<U24')"
      ]
     },
     "execution_count": 85,
     "metadata": {},
     "output_type": "execute_result"
    }
   ],
   "source": [
    "a"
   ]
  },
  {
   "cell_type": "code",
   "execution_count": 77,
   "metadata": {},
   "outputs": [],
   "source": [
    "res = requests.get('https://opentdb.com/api_token.php?command=request')"
   ]
  },
  {
   "cell_type": "code",
   "execution_count": 78,
   "metadata": {},
   "outputs": [
    {
     "data": {
      "text/plain": [
       "<Response [200]>"
      ]
     },
     "execution_count": 78,
     "metadata": {},
     "output_type": "execute_result"
    }
   ],
   "source": [
    "res"
   ]
  },
  {
   "cell_type": "code",
   "execution_count": 79,
   "metadata": {},
   "outputs": [
    {
     "data": {
      "text/plain": [
       "<Response [200]>"
      ]
     },
     "execution_count": 79,
     "metadata": {},
     "output_type": "execute_result"
    }
   ],
   "source": [
    "requests.get('https://opentdb.com/api_category.php')"
   ]
  },
  {
   "cell_type": "code",
   "execution_count": 88,
   "metadata": {},
   "outputs": [],
   "source": [
    "cats = list(np.arange(9,31)) + [32]"
   ]
  },
  {
   "cell_type": "code",
   "execution_count": 120,
   "metadata": {},
   "outputs": [],
   "source": [
    "categories = np.random.choice(cats, size = 26)"
   ]
  },
  {
   "cell_type": "code",
   "execution_count": 138,
   "metadata": {},
   "outputs": [],
   "source": [
    "res = requests.get('https://opentdb.com/api_token.php?command=request')"
   ]
  },
  {
   "cell_type": "code",
   "execution_count": 111,
   "metadata": {},
   "outputs": [
    {
     "data": {
      "text/plain": [
       "'a311199ca9bd11abcf119875e44a9dccd6c1ba944f85c43a2986762f2ac5938e'"
      ]
     },
     "execution_count": 111,
     "metadata": {},
     "output_type": "execute_result"
    }
   ],
   "source": [
    "res.content.decode().split(':')[-1][:-1].strip('\"')"
   ]
  },
  {
   "cell_type": "code",
   "execution_count": 140,
   "metadata": {},
   "outputs": [
    {
     "data": {
      "text/plain": [
       "'9be817aa2d1b0166a5e0f06c005103d8e84eeed465ead3d4324dacd52659669e'"
      ]
     },
     "execution_count": 140,
     "metadata": {},
     "output_type": "execute_result"
    }
   ],
   "source": [
    "res.json()['token']"
   ]
  },
  {
   "cell_type": "code",
   "execution_count": 119,
   "metadata": {},
   "outputs": [
    {
     "ename": "AssertionError",
     "evalue": "Number of questions minus 2 bonus questions isn't evenly divided into 4 rounds",
     "output_type": "error",
     "traceback": [
      "\u001b[0;31m---------------------------------------------------------------------------\u001b[0m",
      "\u001b[0;31mAssertionError\u001b[0m                            Traceback (most recent call last)",
      "\u001b[0;32m<ipython-input-119-928f09e8217e>\u001b[0m in \u001b[0;36m<module>\u001b[0;34m\u001b[0m\n\u001b[0;32m----> 1\u001b[0;31m \u001b[0;32massert\u001b[0m \u001b[0;34m(\u001b[0m\u001b[0;36m26\u001b[0m\u001b[0;34m-\u001b[0m\u001b[0;36m2\u001b[0m\u001b[0;34m)\u001b[0m\u001b[0;34m%\u001b[0m\u001b[0;36m5\u001b[0m \u001b[0;34m==\u001b[0m \u001b[0;36m0\u001b[0m\u001b[0;34m,\u001b[0m \u001b[0;34m\"Number of questions minus 2 bonus questions isn't evenly divided into 4 rounds\"\u001b[0m\u001b[0;34m\u001b[0m\u001b[0;34m\u001b[0m\u001b[0m\n\u001b[0m",
      "\u001b[0;31mAssertionError\u001b[0m: Number of questions minus 2 bonus questions isn't evenly divided into 4 rounds"
     ]
    }
   ],
   "source": [
    "assert (26-2)%5 == 0, \"Number of questions minus 2 bonus questions isn't evenly divided into 4 rounds\""
   ]
  },
  {
   "cell_type": "code",
   "execution_count": 126,
   "metadata": {},
   "outputs": [],
   "source": [
    "qs_per_rd = int((26-2)/4)"
   ]
  },
  {
   "cell_type": "code",
   "execution_count": 135,
   "metadata": {},
   "outputs": [],
   "source": [
    "rounds = []\n",
    "rounds.append(categories[:qs_per_rd])\n",
    "rounds.append(categories[qs_per_rd:(2*qs_per_rd)+1])\n",
    "rounds.append(categories[(2*qs_per_rd)+1:(3*qs_per_rd)+1])\n",
    "rounds.append(categories[(3*qs_per_rd)+1:])"
   ]
  },
  {
   "cell_type": "code",
   "execution_count": 136,
   "metadata": {},
   "outputs": [
    {
     "data": {
      "text/plain": [
       "4"
      ]
     },
     "execution_count": 136,
     "metadata": {},
     "output_type": "execute_result"
    }
   ],
   "source": [
    "len(rounds)"
   ]
  },
  {
   "cell_type": "code",
   "execution_count": 137,
   "metadata": {},
   "outputs": [
    {
     "data": {
      "text/plain": [
       "'medium'"
      ]
     },
     "execution_count": 137,
     "metadata": {},
     "output_type": "execute_result"
    }
   ],
   "source": [
    "np.random.choice(['medium', 'hard'])"
   ]
  },
  {
   "cell_type": "code",
   "execution_count": 159,
   "metadata": {},
   "outputs": [],
   "source": [
    "import time\n",
    "\n",
    "def countdown(t):\n",
    "    while t:\n",
    "        mins, secs = divmod(t, 60)\n",
    "        timeformat = '{:02d}:{:02d}'.format(mins, secs)\n",
    "        print(timeformat, end='\\r')\n",
    "        time.sleep(1)\n",
    "        t -= 1\n",
    "    print('Goodbye!\\n\\n\\n\\n\\n')"
   ]
  },
  {
   "cell_type": "code",
   "execution_count": 160,
   "metadata": {},
   "outputs": [
    {
     "name": "stdout",
     "output_type": "stream",
     "text": [
      "Goodbye!\n",
      "\n",
      "\n",
      "\n",
      "\n",
      "\n"
     ]
    }
   ],
   "source": [
    "countdown(3)"
   ]
  },
  {
   "cell_type": "code",
   "execution_count": null,
   "metadata": {},
   "outputs": [],
   "source": []
  }
 ],
 "metadata": {
  "kernelspec": {
   "display_name": "Python 3",
   "language": "python",
   "name": "python3"
  },
  "language_info": {
   "codemirror_mode": {
    "name": "ipython",
    "version": 3
   },
   "file_extension": ".py",
   "mimetype": "text/x-python",
   "name": "python",
   "nbconvert_exporter": "python",
   "pygments_lexer": "ipython3",
   "version": "3.6.9"
  }
 },
 "nbformat": 4,
 "nbformat_minor": 4
}
